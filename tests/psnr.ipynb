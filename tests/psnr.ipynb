{
 "cells": [
  {
   "cell_type": "code",
   "execution_count": 15,
   "id": "f1348cd7",
   "metadata": {},
   "outputs": [
    {
     "name": "stdout",
     "output_type": "stream",
     "text": [
      "56.268\n"
     ]
    }
   ],
   "source": [
    "import numpy as np\n",
    "import cv2\n",
    "from math import log10,sqrt\n",
    "#change the file names as requireds\n",
    "original=cv2.imread(\"Watermarked.png\")\n",
    "compressed=cv2.imread(\"Watermarked_modified.png\")\n",
    "o=original[:,:,0]\n",
    "c=compressed[:,:,0]\n",
    "mse=np.mean((o-c)**2)\n",
    "max_pixel=255\n",
    "psnr=20*log10(max_pixel/sqrt(mse))\n",
    "psnr=cv2.PSNR(o,c)\n",
    "print(round(psnr,3))"
   ]
  }
 ],
 "metadata": {
  "kernelspec": {
   "display_name": "Python 3 (ipykernel)",
   "language": "python",
   "name": "python3"
  },
  "language_info": {
   "codemirror_mode": {
    "name": "ipython",
    "version": 3
   },
   "file_extension": ".py",
   "mimetype": "text/x-python",
   "name": "python",
   "nbconvert_exporter": "python",
   "pygments_lexer": "ipython3",
   "version": "3.9.6"
  }
 },
 "nbformat": 4,
 "nbformat_minor": 5
}
